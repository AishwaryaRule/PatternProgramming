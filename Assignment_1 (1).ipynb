{
  "nbformat": 4,
  "nbformat_minor": 0,
  "metadata": {
    "colab": {
      "name": "Assignment 1.ipynb",
      "provenance": [],
      "collapsed_sections": []
    },
    "kernelspec": {
      "name": "python3",
      "display_name": "Python 3"
    },
    "language_info": {
      "name": "python"
    }
  },
  "cells": [
    {
      "cell_type": "markdown",
      "metadata": {
        "id": "J4U6a9Cm_7vt"
      },
      "source": [
        "##**Assignment 1- Pattern Programming**"
      ]
    },
    {
      "cell_type": "markdown",
      "metadata": {
        "id": "6Sbe8TtnAMOz"
      },
      "source": [
        "#####Referral Id-SIRSS2223\n",
        "#####Name-Aishwarya Rajesh Rule\n",
        "#####College-Shah and Anchor Kutchhi Engineering College\n"
      ]
    },
    {
      "cell_type": "markdown",
      "metadata": {
        "id": "BaeXUAg-Ql7i"
      },
      "source": [
        "**(1)**"
      ]
    },
    {
      "cell_type": "code",
      "metadata": {
        "colab": {
          "base_uri": "https://localhost:8080/"
        },
        "id": "lLnTiLycojmk",
        "outputId": "81d21cb5-bb87-4eb2-885a-0ff50c40c99b"
      },
      "source": [
        "n=5\n",
        "for i in range(n,0,-1):\n",
        "  for j in range(0,i):\n",
        "    print(5,end=\" \")\n",
        "  print()"
      ],
      "execution_count": 28,
      "outputs": [
        {
          "output_type": "stream",
          "text": [
            "5 5 5 5 5 \n",
            "5 5 5 5 \n",
            "5 5 5 \n",
            "5 5 \n",
            "5 \n"
          ],
          "name": "stdout"
        }
      ]
    },
    {
      "cell_type": "markdown",
      "metadata": {
        "id": "p9VtIOeWQr_q"
      },
      "source": [
        "**(2)**"
      ]
    },
    {
      "cell_type": "code",
      "metadata": {
        "colab": {
          "base_uri": "https://localhost:8080/"
        },
        "id": "MAfp9NbVnkog",
        "outputId": "ddc6fa1b-d2a0-419c-f598-13e998ae4cab"
      },
      "source": [
        "n=6\n",
        "for i in range(n,1,-1):\n",
        "  for j in range(0,i):\n",
        "    print(j,end=\" \")\n",
        "  print()"
      ],
      "execution_count": 29,
      "outputs": [
        {
          "output_type": "stream",
          "text": [
            "0 1 2 3 4 5 \n",
            "0 1 2 3 4 \n",
            "0 1 2 3 \n",
            "0 1 2 \n",
            "0 1 \n"
          ],
          "name": "stdout"
        }
      ]
    },
    {
      "cell_type": "markdown",
      "metadata": {
        "id": "BRIUepdsQwwV"
      },
      "source": [
        "**(3)**"
      ]
    },
    {
      "cell_type": "code",
      "metadata": {
        "colab": {
          "base_uri": "https://localhost:8080/"
        },
        "id": "JXptU-lRmtR_",
        "outputId": "1f27ade0-9d54-42ac-ba9f-dab79fc15cf3"
      },
      "source": [
        "n=5\n",
        "k=1\n",
        "for i in range(1,n+1):\n",
        "  for j in range(0,i):\n",
        "    print(k,end=\" \")\n",
        "  k=k+2\n",
        "  print()\n"
      ],
      "execution_count": 30,
      "outputs": [
        {
          "output_type": "stream",
          "text": [
            "1 \n",
            "3 3 \n",
            "5 5 5 \n",
            "7 7 7 7 \n",
            "9 9 9 9 9 \n"
          ],
          "name": "stdout"
        }
      ]
    },
    {
      "cell_type": "markdown",
      "metadata": {
        "id": "74fbb1icQ1HJ"
      },
      "source": [
        "**(4)**"
      ]
    },
    {
      "cell_type": "code",
      "metadata": {
        "colab": {
          "base_uri": "https://localhost:8080/"
        },
        "id": "aS_m1WGYnGu6",
        "outputId": "240328e0-ace3-45ba-827a-adbe2f2b962b"
      },
      "source": [
        "n=5\n",
        "for i in range(1,n+1):\n",
        "  for j in range(i,0,-1):\n",
        "    print(j,end=\" \")\n",
        "  print()"
      ],
      "execution_count": 31,
      "outputs": [
        {
          "output_type": "stream",
          "text": [
            "1 \n",
            "2 1 \n",
            "3 2 1 \n",
            "4 3 2 1 \n",
            "5 4 3 2 1 \n"
          ],
          "name": "stdout"
        }
      ]
    },
    {
      "cell_type": "markdown",
      "metadata": {
        "id": "Apjk0bYfQ8sR"
      },
      "source": [
        "**(5)**"
      ]
    },
    {
      "cell_type": "code",
      "metadata": {
        "colab": {
          "base_uri": "https://localhost:8080/"
        },
        "id": "um_lOmxQppoP",
        "outputId": "7d9dc6b8-1015-4666-d40f-126938b76cd4"
      },
      "source": [
        "n=4\n",
        "start_row=0\n",
        "for i in range(1,n+1):\n",
        "  start_row=i+start_row\n",
        "  val=start_row\n",
        "  for j in range(0,i):\n",
        "    print(val,end=\" \")\n",
        "    val=val-1\n",
        "  \n",
        "  \n",
        "  print()\n",
        " "
      ],
      "execution_count": 32,
      "outputs": [
        {
          "output_type": "stream",
          "text": [
            "1 \n",
            "3 2 \n",
            "6 5 4 \n",
            "10 9 8 7 \n"
          ],
          "name": "stdout"
        }
      ]
    },
    {
      "cell_type": "markdown",
      "metadata": {
        "id": "V3MeyoZndlzF"
      },
      "source": [
        "**(6)**"
      ]
    },
    {
      "cell_type": "code",
      "metadata": {
        "colab": {
          "base_uri": "https://localhost:8080/"
        },
        "id": "DGEkGvqfdni8",
        "outputId": "b58a7b26-9499-4029-ecf4-47aa526404ca"
      },
      "source": [
        "def fact(num):\n",
        "  if num==0:\n",
        "    return 1\n",
        "  else:\n",
        "    return (num*fact(num-1))\n",
        "\n",
        "n=6\n",
        "for i in range(0,n):\n",
        "  for j in range(0,i+1):\n",
        "    val=int(fact(i) / (fact(j) * fact(i-j)))\n",
        "    print(val,end=\" \")\n",
        "  print()"
      ],
      "execution_count": 33,
      "outputs": [
        {
          "output_type": "stream",
          "text": [
            "1 \n",
            "1 1 \n",
            "1 2 1 \n",
            "1 3 3 1 \n",
            "1 4 6 4 1 \n",
            "1 5 10 10 5 1 \n"
          ],
          "name": "stdout"
        }
      ]
    },
    {
      "cell_type": "markdown",
      "metadata": {
        "id": "IlYHQ-ZjRDUY"
      },
      "source": [
        "**(7)**"
      ]
    },
    {
      "cell_type": "code",
      "metadata": {
        "colab": {
          "base_uri": "https://localhost:8080/"
        },
        "id": "eRN49qXkvghP",
        "outputId": "bb5c9083-4d32-4c8a-c4fc-851b55c173b8"
      },
      "source": [
        "n=5\n",
        "for i in range(1,n+1):\n",
        "  for j in range(1,6):\n",
        "    val=i if(i>j) else j\n",
        "    print(val,end=\" \")\n",
        "  print()"
      ],
      "execution_count": 34,
      "outputs": [
        {
          "output_type": "stream",
          "text": [
            "1 2 3 4 5 \n",
            "2 2 3 4 5 \n",
            "3 3 3 4 5 \n",
            "4 4 4 4 5 \n",
            "5 5 5 5 5 \n"
          ],
          "name": "stdout"
        }
      ]
    },
    {
      "cell_type": "markdown",
      "metadata": {
        "id": "NG20sHrlRFWO"
      },
      "source": [
        "**(8)**"
      ]
    },
    {
      "cell_type": "code",
      "metadata": {
        "colab": {
          "base_uri": "https://localhost:8080/"
        },
        "id": "9JXzzcu9FeTo",
        "outputId": "0ae6cbd3-a927-46ac-bb70-081af6f42dbe"
      },
      "source": [
        "n=8\n",
        "for i in range(1,n+1):\n",
        "  for j in range(1,i+1):\n",
        "    print(i*j,end=\" \")\n",
        "  print()"
      ],
      "execution_count": 35,
      "outputs": [
        {
          "output_type": "stream",
          "text": [
            "1 \n",
            "2 4 \n",
            "3 6 9 \n",
            "4 8 12 16 \n",
            "5 10 15 20 25 \n",
            "6 12 18 24 30 36 \n",
            "7 14 21 28 35 42 49 \n",
            "8 16 24 32 40 48 56 64 \n"
          ],
          "name": "stdout"
        }
      ]
    },
    {
      "cell_type": "markdown",
      "metadata": {
        "id": "p41QOzYGRISb"
      },
      "source": [
        "**(9)**"
      ]
    },
    {
      "cell_type": "code",
      "metadata": {
        "colab": {
          "base_uri": "https://localhost:8080/"
        },
        "id": "dxFITbsKFwLO",
        "outputId": "da9c2550-aae0-4ade-a869-043d7cb3fd10"
      },
      "source": [
        "n=6\n",
        "sp=0\n",
        "for i in range(n,0,-1):\n",
        "  for k in range(0,sp):\n",
        "    print(\" \",end=\"\")\n",
        "  for j in range(0,i):\n",
        "    print(\"*\",end=\" \")\n",
        "  sp=sp+1\n",
        "  print()"
      ],
      "execution_count": 36,
      "outputs": [
        {
          "output_type": "stream",
          "text": [
            "* * * * * * \n",
            " * * * * * \n",
            "  * * * * \n",
            "   * * * \n",
            "    * * \n",
            "     * \n"
          ],
          "name": "stdout"
        }
      ]
    },
    {
      "cell_type": "markdown",
      "metadata": {
        "id": "jd88Pjy2RLF4"
      },
      "source": [
        "**(10)**"
      ]
    },
    {
      "cell_type": "code",
      "metadata": {
        "colab": {
          "base_uri": "https://localhost:8080/"
        },
        "id": "2g95FVFhGOxy",
        "outputId": "be34dc78-7199-4286-ddc7-a665e284fed4"
      },
      "source": [
        "n=7\n",
        "sp=7\n",
        "for i in range(1,n+1):\n",
        "  for k in range(0,sp):\n",
        "    print(\" \",end=\"\")\n",
        "  for j in range(0,i):\n",
        "    print(\"*\",end=\" \")\n",
        "  sp=sp-1\n",
        "  print()"
      ],
      "execution_count": 37,
      "outputs": [
        {
          "output_type": "stream",
          "text": [
            "       * \n",
            "      * * \n",
            "     * * * \n",
            "    * * * * \n",
            "   * * * * * \n",
            "  * * * * * * \n",
            " * * * * * * * \n"
          ],
          "name": "stdout"
        }
      ]
    },
    {
      "cell_type": "markdown",
      "metadata": {
        "id": "eDekw6wsRN0P"
      },
      "source": [
        "**(11)**"
      ]
    },
    {
      "cell_type": "code",
      "metadata": {
        "colab": {
          "base_uri": "https://localhost:8080/"
        },
        "id": "jJ1mhBupHbWT",
        "outputId": "1dc2dee9-ab82-405d-d918-63ec66c7fe60"
      },
      "source": [
        "n=6\n",
        "for i in range(1,n+1):\n",
        "  for j in range(0,i):\n",
        "    print(\"*\",end=\" \")\n",
        "  print()\n",
        "print()\n",
        "for i in range(n,0,-1):\n",
        "  for j in range(0,i):\n",
        "    print(\"*\",end=\" \")\n",
        "  print()"
      ],
      "execution_count": 38,
      "outputs": [
        {
          "output_type": "stream",
          "text": [
            "* \n",
            "* * \n",
            "* * * \n",
            "* * * * \n",
            "* * * * * \n",
            "* * * * * * \n",
            "\n",
            "* * * * * * \n",
            "* * * * * \n",
            "* * * * \n",
            "* * * \n",
            "* * \n",
            "* \n"
          ],
          "name": "stdout"
        }
      ]
    },
    {
      "cell_type": "markdown",
      "metadata": {
        "id": "EC7IcYDzRP9J"
      },
      "source": [
        "**(12)**"
      ]
    },
    {
      "cell_type": "code",
      "metadata": {
        "colab": {
          "base_uri": "https://localhost:8080/"
        },
        "id": "NRmLJzSSH9_x",
        "outputId": "4026ad81-6bf4-4c1d-a965-96523c5156da"
      },
      "source": [
        "n=5\n",
        "for i in range(1,n+1):\n",
        "  for j in range(0,i):\n",
        "    print(\"*\",end=\" \")\n",
        "  print()\n",
        "for l in range(n-1,0,-1):\n",
        "  for j in range(0,l):\n",
        "    print(\"*\",end=\" \")\n",
        "  print()\n",
        "   "
      ],
      "execution_count": 39,
      "outputs": [
        {
          "output_type": "stream",
          "text": [
            "* \n",
            "* * \n",
            "* * * \n",
            "* * * * \n",
            "* * * * * \n",
            "* * * * \n",
            "* * * \n",
            "* * \n",
            "* \n"
          ],
          "name": "stdout"
        }
      ]
    },
    {
      "cell_type": "markdown",
      "metadata": {
        "id": "zgrBGAshRSnr"
      },
      "source": [
        "**(13)**"
      ]
    },
    {
      "cell_type": "code",
      "metadata": {
        "colab": {
          "base_uri": "https://localhost:8080/"
        },
        "id": "F5z-P_FzKKWX",
        "outputId": "4b5bc07b-6a30-4373-9d7a-f9575a3b1c49"
      },
      "source": [
        "n=5\n",
        "sp=5\n",
        "for i in range(1,n+1):\n",
        "  for k in range(1,sp):\n",
        "    print(\" \",end=\" \")\n",
        "  for j in range(0,i):\n",
        "    print(\"*\",end=\" \")\n",
        "  print()\n",
        "  sp=sp-1\n",
        "sp=1\n",
        "for i in range(n-1,0,-1):\n",
        "  for k in range(0,sp):\n",
        "    print(\" \",end=\" \")\n",
        "  for j in range(0,i):\n",
        "    print(\"*\",end=\" \")\n",
        "  print()\n",
        "  sp=sp+1\n"
      ],
      "execution_count": 40,
      "outputs": [
        {
          "output_type": "stream",
          "text": [
            "        * \n",
            "      * * \n",
            "    * * * \n",
            "  * * * * \n",
            "* * * * * \n",
            "  * * * * \n",
            "    * * * \n",
            "      * * \n",
            "        * \n"
          ],
          "name": "stdout"
        }
      ]
    },
    {
      "cell_type": "markdown",
      "metadata": {
        "id": "vgfE2t9dRU4p"
      },
      "source": [
        "**(14)**"
      ]
    },
    {
      "cell_type": "code",
      "metadata": {
        "colab": {
          "base_uri": "https://localhost:8080/"
        },
        "id": "74z800_jL1ac",
        "outputId": "f75f83d1-9cff-49c9-bad9-fab3ed00c0d6"
      },
      "source": [
        "n=5\n",
        "sp=0\n",
        "for i in range(n,0,-1):\n",
        "  for k in range(0,sp):\n",
        "    print(\" \",end=\"\")\n",
        "  for j in range(0,i):\n",
        "    print(\"*\",end=\" \")\n",
        "  print()\n",
        "  sp=sp+1\n",
        "sp=4\n",
        "for i in range(1,n+1):\n",
        "  for k in range(0,sp):\n",
        "    print(\" \",end=\"\")\n",
        "  for j in range(0,i):\n",
        "    print(\"*\",end=\" \")\n",
        "  print()\n",
        "  sp=sp-1"
      ],
      "execution_count": 41,
      "outputs": [
        {
          "output_type": "stream",
          "text": [
            "* * * * * \n",
            " * * * * \n",
            "  * * * \n",
            "   * * \n",
            "    * \n",
            "    * \n",
            "   * * \n",
            "  * * * \n",
            " * * * * \n",
            "* * * * * \n"
          ],
          "name": "stdout"
        }
      ]
    },
    {
      "cell_type": "markdown",
      "metadata": {
        "id": "BpAcynoERXl-"
      },
      "source": [
        "**(15)**"
      ]
    },
    {
      "cell_type": "code",
      "metadata": {
        "colab": {
          "base_uri": "https://localhost:8080/"
        },
        "id": "3bQg-FChNSxK",
        "outputId": "3e3014fe-7761-4298-8305-1e3b40768930"
      },
      "source": [
        "n=8\n",
        "sp=8\n",
        "for i in range(0,n):\n",
        "  for k in range(0,sp):\n",
        "    print(\"*\",end=\"\")\n",
        "  for i in range(0,i):\n",
        "    print(\"--\",end=\"\")\n",
        "  for k in range(0,sp):\n",
        "    print(\"*\",end=\"\")\n",
        "  sp=sp-1\n",
        "  print()"
      ],
      "execution_count": 42,
      "outputs": [
        {
          "output_type": "stream",
          "text": [
            "****************\n",
            "*******--*******\n",
            "******----******\n",
            "*****------*****\n",
            "****--------****\n",
            "***----------***\n",
            "**------------**\n",
            "*--------------*\n"
          ],
          "name": "stdout"
        }
      ]
    },
    {
      "cell_type": "code",
      "metadata": {
        "id": "a3LORUliDpN_"
      },
      "source": [
        ""
      ],
      "execution_count": null,
      "outputs": []
    }
  ]
}